{
 "cells": [
  {
   "cell_type": "code",
   "execution_count": 2,
   "metadata": {
    "collapsed": false
   },
   "outputs": [],
   "source": [
    "import pandas as pd\n",
    "import numpy as np\n",
    "import xgboost as xgb\n",
    "from sklearn.model_selection import train_test_split"
   ]
  },
  {
   "cell_type": "code",
   "execution_count": 6,
   "metadata": {
    "collapsed": false
   },
   "outputs": [],
   "source": [
    "path = r'round1_ijcai_18_train_20180301.txt'\n",
    "train_data = pd.read_table(path, delim_whitespace=True, header=0)"
   ]
  },
  {
   "cell_type": "code",
   "execution_count": 28,
   "metadata": {
    "collapsed": false
   },
   "outputs": [
    {
     "data": {
      "text/plain": [
       "(478138, 27)"
      ]
     },
     "execution_count": 28,
     "metadata": {},
     "output_type": "execute_result"
    }
   ],
   "source": [
    "train_data.shape"
   ]
  },
  {
   "cell_type": "code",
   "execution_count": 12,
   "metadata": {
    "collapsed": true
   },
   "outputs": [],
   "source": [
    "data_to_use =['item_price_level', 'item_sales_level', 'item_collected_level', 'item_pv_level', 'user_gender_id',\n",
    "       'user_age_level', 'user_occupation_id', 'user_star_level', 'context_page_id','shop_review_num_level',\n",
    "              'shop_review_positive_rate', 'shop_star_level', 'shop_score_service', 'shop_score_delivery',\n",
    "       'shop_score_description']"
   ]
  },
  {
   "cell_type": "code",
   "execution_count": 13,
   "metadata": {
    "collapsed": false
   },
   "outputs": [],
   "source": [
    "train_x = train_data[data_to_use]\n",
    "train_y = train_data['is_trade']"
   ]
  },
  {
   "cell_type": "code",
   "execution_count": 27,
   "metadata": {
    "collapsed": false
   },
   "outputs": [
    {
     "data": {
      "text/html": [
       "<div>\n",
       "<style>\n",
       "    .dataframe thead tr:only-child th {\n",
       "        text-align: right;\n",
       "    }\n",
       "\n",
       "    .dataframe thead th {\n",
       "        text-align: left;\n",
       "    }\n",
       "\n",
       "    .dataframe tbody tr th {\n",
       "        vertical-align: top;\n",
       "    }\n",
       "</style>\n",
       "<table border=\"1\" class=\"dataframe\">\n",
       "  <thead>\n",
       "    <tr style=\"text-align: right;\">\n",
       "      <th></th>\n",
       "      <th>item_price_level</th>\n",
       "      <th>item_sales_level</th>\n",
       "      <th>item_collected_level</th>\n",
       "      <th>item_pv_level</th>\n",
       "      <th>user_gender_id</th>\n",
       "      <th>user_age_level</th>\n",
       "      <th>user_occupation_id</th>\n",
       "      <th>user_star_level</th>\n",
       "      <th>context_page_id</th>\n",
       "      <th>shop_review_num_level</th>\n",
       "      <th>shop_review_positive_rate</th>\n",
       "      <th>shop_star_level</th>\n",
       "      <th>shop_score_service</th>\n",
       "      <th>shop_score_delivery</th>\n",
       "      <th>shop_score_description</th>\n",
       "    </tr>\n",
       "  </thead>\n",
       "  <tbody>\n",
       "    <tr>\n",
       "      <th>0</th>\n",
       "      <td>3</td>\n",
       "      <td>3</td>\n",
       "      <td>4</td>\n",
       "      <td>14</td>\n",
       "      <td>1</td>\n",
       "      <td>3</td>\n",
       "      <td>5</td>\n",
       "      <td>3</td>\n",
       "      <td>6</td>\n",
       "      <td>4</td>\n",
       "      <td>1.0</td>\n",
       "      <td>2</td>\n",
       "      <td>1.0</td>\n",
       "      <td>1.0</td>\n",
       "      <td>1.0</td>\n",
       "    </tr>\n",
       "    <tr>\n",
       "      <th>1</th>\n",
       "      <td>3</td>\n",
       "      <td>3</td>\n",
       "      <td>4</td>\n",
       "      <td>14</td>\n",
       "      <td>0</td>\n",
       "      <td>2</td>\n",
       "      <td>5</td>\n",
       "      <td>6</td>\n",
       "      <td>1</td>\n",
       "      <td>4</td>\n",
       "      <td>1.0</td>\n",
       "      <td>2</td>\n",
       "      <td>1.0</td>\n",
       "      <td>1.0</td>\n",
       "      <td>1.0</td>\n",
       "    </tr>\n",
       "    <tr>\n",
       "      <th>2</th>\n",
       "      <td>3</td>\n",
       "      <td>3</td>\n",
       "      <td>4</td>\n",
       "      <td>14</td>\n",
       "      <td>0</td>\n",
       "      <td>3</td>\n",
       "      <td>5</td>\n",
       "      <td>4</td>\n",
       "      <td>1</td>\n",
       "      <td>4</td>\n",
       "      <td>1.0</td>\n",
       "      <td>2</td>\n",
       "      <td>1.0</td>\n",
       "      <td>1.0</td>\n",
       "      <td>1.0</td>\n",
       "    </tr>\n",
       "    <tr>\n",
       "      <th>3</th>\n",
       "      <td>3</td>\n",
       "      <td>3</td>\n",
       "      <td>4</td>\n",
       "      <td>14</td>\n",
       "      <td>1</td>\n",
       "      <td>4</td>\n",
       "      <td>5</td>\n",
       "      <td>6</td>\n",
       "      <td>16</td>\n",
       "      <td>4</td>\n",
       "      <td>1.0</td>\n",
       "      <td>2</td>\n",
       "      <td>1.0</td>\n",
       "      <td>1.0</td>\n",
       "      <td>1.0</td>\n",
       "    </tr>\n",
       "    <tr>\n",
       "      <th>4</th>\n",
       "      <td>3</td>\n",
       "      <td>3</td>\n",
       "      <td>4</td>\n",
       "      <td>14</td>\n",
       "      <td>0</td>\n",
       "      <td>2</td>\n",
       "      <td>5</td>\n",
       "      <td>1</td>\n",
       "      <td>1</td>\n",
       "      <td>4</td>\n",
       "      <td>1.0</td>\n",
       "      <td>2</td>\n",
       "      <td>1.0</td>\n",
       "      <td>1.0</td>\n",
       "      <td>1.0</td>\n",
       "    </tr>\n",
       "  </tbody>\n",
       "</table>\n",
       "</div>"
      ],
      "text/plain": [
       "   item_price_level  item_sales_level  item_collected_level  item_pv_level  \\\n",
       "0                 3                 3                     4             14   \n",
       "1                 3                 3                     4             14   \n",
       "2                 3                 3                     4             14   \n",
       "3                 3                 3                     4             14   \n",
       "4                 3                 3                     4             14   \n",
       "\n",
       "   user_gender_id  user_age_level  user_occupation_id  user_star_level  \\\n",
       "0               1               3                   5                3   \n",
       "1               0               2                   5                6   \n",
       "2               0               3                   5                4   \n",
       "3               1               4                   5                6   \n",
       "4               0               2                   5                1   \n",
       "\n",
       "   context_page_id  shop_review_num_level  shop_review_positive_rate  \\\n",
       "0                6                      4                        1.0   \n",
       "1                1                      4                        1.0   \n",
       "2                1                      4                        1.0   \n",
       "3               16                      4                        1.0   \n",
       "4                1                      4                        1.0   \n",
       "\n",
       "   shop_star_level  shop_score_service  shop_score_delivery  \\\n",
       "0                2                 1.0                  1.0   \n",
       "1                2                 1.0                  1.0   \n",
       "2                2                 1.0                  1.0   \n",
       "3                2                 1.0                  1.0   \n",
       "4                2                 1.0                  1.0   \n",
       "\n",
       "   shop_score_description  \n",
       "0                     1.0  \n",
       "1                     1.0  \n",
       "2                     1.0  \n",
       "3                     1.0  \n",
       "4                     1.0  "
      ]
     },
     "execution_count": 27,
     "metadata": {},
     "output_type": "execute_result"
    }
   ],
   "source": [
    "train_x.head(5)"
   ]
  },
  {
   "cell_type": "code",
   "execution_count": 44,
   "metadata": {
    "collapsed": true
   },
   "outputs": [],
   "source": [
    "train_data = train_x[:448138]\n",
    "train_target = train_y[:448138]\n",
    "\n",
    "valid_data = train_x[448138:]\n",
    "valid_target = train_y[448138:]"
   ]
  },
  {
   "cell_type": "code",
   "execution_count": 46,
   "metadata": {
    "collapsed": false
   },
   "outputs": [
    {
     "data": {
      "text/plain": [
       "Index(['item_price_level', 'item_sales_level', 'item_collected_level',\n",
       "       'item_pv_level', 'user_gender_id', 'user_age_level',\n",
       "       'user_occupation_id', 'user_star_level', 'context_page_id',\n",
       "       'shop_review_num_level', 'shop_review_positive_rate', 'shop_star_level',\n",
       "       'shop_score_service', 'shop_score_delivery', 'shop_score_description'],\n",
       "      dtype='object')"
      ]
     },
     "execution_count": 46,
     "metadata": {},
     "output_type": "execute_result"
    }
   ],
   "source": [
    "train_data.columns"
   ]
  },
  {
   "cell_type": "code",
   "execution_count": 56,
   "metadata": {
    "collapsed": true
   },
   "outputs": [],
   "source": [
    "dtrain= xgb.DMatrix(train_data, label=train_target)\n",
    "dvalid = xgb.DMatrix(valid_data)\n",
    "\n",
    "params={'booster':'gbtree',\n",
    "    'objective': 'binary:logistic',\n",
    "    'eval_metric': 'auc',\n",
    "    'max_depth':7,\n",
    "    'lambda':10,\n",
    "    'subsample':0.75,\n",
    "    'colsample_bytree':0.75,\n",
    "    'min_child_weight':2,\n",
    "    'eta': 0.020,\n",
    "    'seed':0,\n",
    "    'nthread':8,\n",
    "     'silent':1}\n",
    "\n",
    "watchlist = [(dtrain,'train')]"
   ]
  },
  {
   "cell_type": "code",
   "execution_count": 57,
   "metadata": {
    "collapsed": false
   },
   "outputs": [
    {
     "name": "stdout",
     "output_type": "stream",
     "text": [
      "[0]\ttrain-auc:0.560586\n",
      "[1]\ttrain-auc:0.560586\n",
      "[2]\ttrain-auc:0.560586\n",
      "[3]\ttrain-auc:0.602611\n",
      "[4]\ttrain-auc:0.602611\n",
      "[5]\ttrain-auc:0.602611\n",
      "[6]\ttrain-auc:0.602611\n",
      "[7]\ttrain-auc:0.602973\n",
      "[8]\ttrain-auc:0.602973\n",
      "[9]\ttrain-auc:0.620537\n",
      "[10]\ttrain-auc:0.620118\n",
      "[11]\ttrain-auc:0.620118\n",
      "[12]\ttrain-auc:0.62152\n",
      "[13]\ttrain-auc:0.62152\n",
      "[14]\ttrain-auc:0.622145\n",
      "[15]\ttrain-auc:0.621723\n",
      "[16]\ttrain-auc:0.621723\n",
      "[17]\ttrain-auc:0.623112\n",
      "[18]\ttrain-auc:0.623488\n",
      "[19]\ttrain-auc:0.628037\n",
      "[20]\ttrain-auc:0.630229\n",
      "[21]\ttrain-auc:0.629203\n",
      "[22]\ttrain-auc:0.629033\n",
      "[23]\ttrain-auc:0.629221\n",
      "[24]\ttrain-auc:0.63015\n",
      "[25]\ttrain-auc:0.63015\n",
      "[26]\ttrain-auc:0.633747\n",
      "[27]\ttrain-auc:0.632307\n",
      "[28]\ttrain-auc:0.632495\n",
      "[29]\ttrain-auc:0.633932\n",
      "[30]\ttrain-auc:0.633094\n",
      "[31]\ttrain-auc:0.63514\n",
      "[32]\ttrain-auc:0.635066\n",
      "[33]\ttrain-auc:0.634739\n",
      "[34]\ttrain-auc:0.635067\n",
      "[35]\ttrain-auc:0.635038\n",
      "[36]\ttrain-auc:0.635035\n",
      "[37]\ttrain-auc:0.635595\n",
      "[38]\ttrain-auc:0.63613\n",
      "[39]\ttrain-auc:0.636133\n",
      "[40]\ttrain-auc:0.636028\n",
      "[41]\ttrain-auc:0.637964\n",
      "[42]\ttrain-auc:0.638004\n",
      "[43]\ttrain-auc:0.63966\n",
      "[44]\ttrain-auc:0.639792\n",
      "[45]\ttrain-auc:0.639688\n",
      "[46]\ttrain-auc:0.64003\n",
      "[47]\ttrain-auc:0.640211\n",
      "[48]\ttrain-auc:0.64016\n",
      "[49]\ttrain-auc:0.640516\n",
      "[50]\ttrain-auc:0.640624\n",
      "[51]\ttrain-auc:0.641368\n",
      "[52]\ttrain-auc:0.64129\n",
      "[53]\ttrain-auc:0.641798\n",
      "[54]\ttrain-auc:0.64224\n",
      "[55]\ttrain-auc:0.642161\n",
      "[56]\ttrain-auc:0.64223\n",
      "[57]\ttrain-auc:0.642683\n",
      "[58]\ttrain-auc:0.642919\n",
      "[59]\ttrain-auc:0.643387\n",
      "[60]\ttrain-auc:0.643775\n",
      "[61]\ttrain-auc:0.643995\n",
      "[62]\ttrain-auc:0.644589\n",
      "[63]\ttrain-auc:0.644739\n",
      "[64]\ttrain-auc:0.644964\n",
      "[65]\ttrain-auc:0.645216\n",
      "[66]\ttrain-auc:0.645527\n",
      "[67]\ttrain-auc:0.645795\n",
      "[68]\ttrain-auc:0.645846\n",
      "[69]\ttrain-auc:0.645964\n",
      "[70]\ttrain-auc:0.645933\n",
      "[71]\ttrain-auc:0.646497\n",
      "[72]\ttrain-auc:0.646524\n",
      "[73]\ttrain-auc:0.646769\n",
      "[74]\ttrain-auc:0.646953\n",
      "[75]\ttrain-auc:0.647025\n",
      "[76]\ttrain-auc:0.647225\n",
      "[77]\ttrain-auc:0.64745\n",
      "[78]\ttrain-auc:0.64742\n",
      "[79]\ttrain-auc:0.647491\n",
      "[80]\ttrain-auc:0.64784\n",
      "[81]\ttrain-auc:0.649332\n",
      "[82]\ttrain-auc:0.649744\n",
      "[83]\ttrain-auc:0.651048\n",
      "[84]\ttrain-auc:0.651425\n",
      "[85]\ttrain-auc:0.651775\n",
      "[86]\ttrain-auc:0.651899\n",
      "[87]\ttrain-auc:0.652645\n",
      "[88]\ttrain-auc:0.652658\n",
      "[89]\ttrain-auc:0.652834\n",
      "[90]\ttrain-auc:0.653104\n",
      "[91]\ttrain-auc:0.653327\n",
      "[92]\ttrain-auc:0.653535\n",
      "[93]\ttrain-auc:0.653626\n",
      "[94]\ttrain-auc:0.654096\n",
      "[95]\ttrain-auc:0.654133\n",
      "[96]\ttrain-auc:0.654325\n",
      "[97]\ttrain-auc:0.65468\n",
      "[98]\ttrain-auc:0.655506\n",
      "[99]\ttrain-auc:0.655716\n",
      "[100]\ttrain-auc:0.655693\n",
      "[101]\ttrain-auc:0.655889\n",
      "[102]\ttrain-auc:0.656818\n",
      "[103]\ttrain-auc:0.65692\n",
      "[104]\ttrain-auc:0.657023\n",
      "[105]\ttrain-auc:0.657393\n",
      "[106]\ttrain-auc:0.657714\n",
      "[107]\ttrain-auc:0.657961\n",
      "[108]\ttrain-auc:0.658377\n",
      "[109]\ttrain-auc:0.659018\n",
      "[110]\ttrain-auc:0.659259\n",
      "[111]\ttrain-auc:0.660154\n",
      "[112]\ttrain-auc:0.660373\n",
      "[113]\ttrain-auc:0.660465\n",
      "[114]\ttrain-auc:0.660935\n",
      "[115]\ttrain-auc:0.661542\n",
      "[116]\ttrain-auc:0.661821\n",
      "[117]\ttrain-auc:0.662414\n",
      "[118]\ttrain-auc:0.662649\n",
      "[119]\ttrain-auc:0.662945\n",
      "[120]\ttrain-auc:0.663372\n",
      "[121]\ttrain-auc:0.66385\n",
      "[122]\ttrain-auc:0.664161\n",
      "[123]\ttrain-auc:0.664198\n",
      "[124]\ttrain-auc:0.664476\n",
      "[125]\ttrain-auc:0.664783\n",
      "[126]\ttrain-auc:0.665105\n",
      "[127]\ttrain-auc:0.6657\n",
      "[128]\ttrain-auc:0.666047\n",
      "[129]\ttrain-auc:0.666191\n",
      "[130]\ttrain-auc:0.666689\n",
      "[131]\ttrain-auc:0.667321\n",
      "[132]\ttrain-auc:0.667698\n",
      "[133]\ttrain-auc:0.667896\n",
      "[134]\ttrain-auc:0.668293\n",
      "[135]\ttrain-auc:0.668501\n",
      "[136]\ttrain-auc:0.668714\n",
      "[137]\ttrain-auc:0.669236\n",
      "[138]\ttrain-auc:0.669424\n",
      "[139]\ttrain-auc:0.669914\n",
      "[140]\ttrain-auc:0.670399\n",
      "[141]\ttrain-auc:0.6709\n",
      "[142]\ttrain-auc:0.671605\n",
      "[143]\ttrain-auc:0.671831\n",
      "[144]\ttrain-auc:0.672402\n",
      "[145]\ttrain-auc:0.672648\n",
      "[146]\ttrain-auc:0.673331\n",
      "[147]\ttrain-auc:0.673768\n",
      "[148]\ttrain-auc:0.674304\n",
      "[149]\ttrain-auc:0.6745\n",
      "[150]\ttrain-auc:0.675298\n",
      "[151]\ttrain-auc:0.676003\n",
      "[152]\ttrain-auc:0.676261\n",
      "[153]\ttrain-auc:0.676837\n",
      "[154]\ttrain-auc:0.67726\n",
      "[155]\ttrain-auc:0.677465\n",
      "[156]\ttrain-auc:0.677972\n",
      "[157]\ttrain-auc:0.678586\n",
      "[158]\ttrain-auc:0.679225\n",
      "[159]\ttrain-auc:0.679794\n",
      "[160]\ttrain-auc:0.680348\n",
      "[161]\ttrain-auc:0.680732\n",
      "[162]\ttrain-auc:0.68107\n",
      "[163]\ttrain-auc:0.681455\n",
      "[164]\ttrain-auc:0.681895\n",
      "[165]\ttrain-auc:0.682136\n",
      "[166]\ttrain-auc:0.682777\n",
      "[167]\ttrain-auc:0.683297\n",
      "[168]\ttrain-auc:0.683834\n",
      "[169]\ttrain-auc:0.684178\n",
      "[170]\ttrain-auc:0.684637\n",
      "[171]\ttrain-auc:0.685203\n",
      "[172]\ttrain-auc:0.685644\n",
      "[173]\ttrain-auc:0.68597\n",
      "[174]\ttrain-auc:0.68635\n",
      "[175]\ttrain-auc:0.686602\n",
      "[176]\ttrain-auc:0.687011\n",
      "[177]\ttrain-auc:0.687373\n",
      "[178]\ttrain-auc:0.687762\n",
      "[179]\ttrain-auc:0.688321\n",
      "[180]\ttrain-auc:0.688784\n",
      "[181]\ttrain-auc:0.689281\n",
      "[182]\ttrain-auc:0.689584\n",
      "[183]\ttrain-auc:0.68997\n",
      "[184]\ttrain-auc:0.690418\n",
      "[185]\ttrain-auc:0.690959\n",
      "[186]\ttrain-auc:0.691229\n",
      "[187]\ttrain-auc:0.691489\n",
      "[188]\ttrain-auc:0.691863\n",
      "[189]\ttrain-auc:0.692371\n",
      "[190]\ttrain-auc:0.692843\n",
      "[191]\ttrain-auc:0.693307\n",
      "[192]\ttrain-auc:0.693623\n",
      "[193]\ttrain-auc:0.693964\n",
      "[194]\ttrain-auc:0.694343\n",
      "[195]\ttrain-auc:0.69464\n",
      "[196]\ttrain-auc:0.695078\n",
      "[197]\ttrain-auc:0.695452\n",
      "[198]\ttrain-auc:0.695849\n",
      "[199]\ttrain-auc:0.696206\n",
      "[200]\ttrain-auc:0.696466\n",
      "[201]\ttrain-auc:0.696716\n",
      "[202]\ttrain-auc:0.697136\n",
      "[203]\ttrain-auc:0.697486\n",
      "[204]\ttrain-auc:0.697932\n",
      "[205]\ttrain-auc:0.698269\n",
      "[206]\ttrain-auc:0.698532\n",
      "[207]\ttrain-auc:0.698891\n",
      "[208]\ttrain-auc:0.69934\n",
      "[209]\ttrain-auc:0.69963\n",
      "[210]\ttrain-auc:0.699955\n",
      "[211]\ttrain-auc:0.700303\n",
      "[212]\ttrain-auc:0.700718\n",
      "[213]\ttrain-auc:0.700968\n",
      "[214]\ttrain-auc:0.701246\n",
      "[215]\ttrain-auc:0.701532\n",
      "[216]\ttrain-auc:0.701896\n",
      "[217]\ttrain-auc:0.702163\n",
      "[218]\ttrain-auc:0.702508\n",
      "[219]\ttrain-auc:0.702976\n",
      "[220]\ttrain-auc:0.703323\n",
      "[221]\ttrain-auc:0.703715\n",
      "[222]\ttrain-auc:0.704188\n",
      "[223]\ttrain-auc:0.704503\n",
      "[224]\ttrain-auc:0.704779\n",
      "[225]\ttrain-auc:0.7051\n",
      "[226]\ttrain-auc:0.705425\n",
      "[227]\ttrain-auc:0.705741\n",
      "[228]\ttrain-auc:0.706056\n",
      "[229]\ttrain-auc:0.706307\n",
      "[230]\ttrain-auc:0.70656\n",
      "[231]\ttrain-auc:0.706845\n",
      "[232]\ttrain-auc:0.70715\n",
      "[233]\ttrain-auc:0.707513\n",
      "[234]\ttrain-auc:0.707798\n",
      "[235]\ttrain-auc:0.708084\n",
      "[236]\ttrain-auc:0.708328\n",
      "[237]\ttrain-auc:0.708681\n",
      "[238]\ttrain-auc:0.708969\n",
      "[239]\ttrain-auc:0.709263\n",
      "[240]\ttrain-auc:0.709507\n",
      "[241]\ttrain-auc:0.70983\n",
      "[242]\ttrain-auc:0.710123\n",
      "[243]\ttrain-auc:0.710417\n",
      "[244]\ttrain-auc:0.710711\n",
      "[245]\ttrain-auc:0.711076\n",
      "[246]\ttrain-auc:0.711411\n",
      "[247]\ttrain-auc:0.711733\n",
      "[248]\ttrain-auc:0.712118\n",
      "[249]\ttrain-auc:0.712416\n",
      "[250]\ttrain-auc:0.712794\n",
      "[251]\ttrain-auc:0.712987\n",
      "[252]\ttrain-auc:0.713291\n",
      "[253]\ttrain-auc:0.713575\n",
      "[254]\ttrain-auc:0.713857\n",
      "[255]\ttrain-auc:0.714061\n",
      "[256]\ttrain-auc:0.714309\n",
      "[257]\ttrain-auc:0.714612\n",
      "[258]\ttrain-auc:0.714759\n",
      "[259]\ttrain-auc:0.714954\n",
      "[260]\ttrain-auc:0.715213\n",
      "[261]\ttrain-auc:0.7154\n",
      "[262]\ttrain-auc:0.715651\n",
      "[263]\ttrain-auc:0.715964\n",
      "[264]\ttrain-auc:0.716182\n",
      "[265]\ttrain-auc:0.716428\n",
      "[266]\ttrain-auc:0.716639\n",
      "[267]\ttrain-auc:0.71698\n",
      "[268]\ttrain-auc:0.717217\n",
      "[269]\ttrain-auc:0.717383\n",
      "[270]\ttrain-auc:0.717535\n",
      "[271]\ttrain-auc:0.717656\n",
      "[272]\ttrain-auc:0.717989\n",
      "[273]\ttrain-auc:0.718201\n",
      "[274]\ttrain-auc:0.7185\n",
      "[275]\ttrain-auc:0.71865\n",
      "[276]\ttrain-auc:0.718967\n",
      "[277]\ttrain-auc:0.719142\n",
      "[278]\ttrain-auc:0.719354\n",
      "[279]\ttrain-auc:0.719583\n",
      "[280]\ttrain-auc:0.719771\n",
      "[281]\ttrain-auc:0.719888\n",
      "[282]\ttrain-auc:0.720102\n",
      "[283]\ttrain-auc:0.720307\n",
      "[284]\ttrain-auc:0.720639\n",
      "[285]\ttrain-auc:0.720817\n",
      "[286]\ttrain-auc:0.721027\n",
      "[287]\ttrain-auc:0.721253\n",
      "[288]\ttrain-auc:0.721537\n",
      "[289]\ttrain-auc:0.721716\n",
      "[290]\ttrain-auc:0.722005\n",
      "[291]\ttrain-auc:0.722259\n",
      "[292]\ttrain-auc:0.722421\n",
      "[293]\ttrain-auc:0.72255\n",
      "[294]\ttrain-auc:0.722799\n",
      "[295]\ttrain-auc:0.722937\n",
      "[296]\ttrain-auc:0.723124\n",
      "[297]\ttrain-auc:0.72333\n",
      "[298]\ttrain-auc:0.723614\n",
      "[299]\ttrain-auc:0.723783\n"
     ]
    }
   ],
   "source": [
    "bst=xgb.train(params,dtrain,num_boost_round=300,evals=watchlist)\n",
    "\n",
    "y_pred=bst.predict(dvalid)\n"
   ]
  },
  {
   "cell_type": "code",
   "execution_count": 58,
   "metadata": {
    "collapsed": true
   },
   "outputs": [],
   "source": [
    "def logloss(y_label,y_prev):\n",
    "    assert len(y_label)==len(y_prev)\n",
    "    N = len(y_label)\n",
    "    logloss = -(y_label*np.log(y_prev)+(1-y_label)*np.log(1-y_prev)).sum()/N\n",
    "    return logloss"
   ]
  },
  {
   "cell_type": "code",
   "execution_count": 59,
   "metadata": {
    "collapsed": false,
    "scrolled": true
   },
   "outputs": [
    {
     "name": "stdout",
     "output_type": "stream",
     "text": [
      "0.08562151947437475\n"
     ]
    }
   ],
   "source": [
    "print(logloss(valid_target, y_pred))"
   ]
  },
  {
   "cell_type": "code",
   "execution_count": 61,
   "metadata": {
    "collapsed": true
   },
   "outputs": [],
   "source": [
    "path_a = r'round1_ijcai_18_test_a_20180301.txt'\n",
    "path_b = r'round1_ijcai_18_test_b_20180418.txt'\n",
    "test_data_a = pd.read_table(path_a, delim_whitespace=True, header=0)\n",
    "test_data_b = pd.read_table(path_b, delim_whitespace=True, header=0)\n",
    "frames = [test_data_a, test_data_b]"
   ]
  },
  {
   "cell_type": "code",
   "execution_count": 62,
   "metadata": {
    "collapsed": true
   },
   "outputs": [],
   "source": [
    "test_data = pd.concat(frames)"
   ]
  },
  {
   "cell_type": "code",
   "execution_count": 66,
   "metadata": {
    "collapsed": false
   },
   "outputs": [],
   "source": [
    "test_data_final = test_data[data_to_use]\n",
    "dtest = xgb.DMatrix(test_data_final)"
   ]
  },
  {
   "cell_type": "code",
   "execution_count": 67,
   "metadata": {
    "collapsed": false
   },
   "outputs": [],
   "source": [
    "y_final_prev = bst.predict(dtest)"
   ]
  },
  {
   "cell_type": "code",
   "execution_count": 70,
   "metadata": {
    "collapsed": false
   },
   "outputs": [
    {
     "data": {
      "text/plain": [
       "array([0.02456573, 0.03058962, 0.0299583 , ..., 0.02119252, 0.04408941,\n",
       "       0.02029177], dtype=float32)"
      ]
     },
     "execution_count": 70,
     "metadata": {},
     "output_type": "execute_result"
    }
   ],
   "source": [
    "y_final_prev"
   ]
  },
  {
   "cell_type": "code",
   "execution_count": 71,
   "metadata": {
    "collapsed": true
   },
   "outputs": [],
   "source": [
    "from pandas import DataFrame\n",
    "result_y = DataFrame(y_final_prev, columns=['predicted_score'])\n",
    "test_data_id = test_data['instance_id']"
   ]
  },
  {
   "cell_type": "code",
   "execution_count": 84,
   "metadata": {
    "collapsed": false
   },
   "outputs": [
    {
     "data": {
      "text/plain": [
       "(61259,)"
      ]
     },
     "execution_count": 84,
     "metadata": {},
     "output_type": "execute_result"
    }
   ],
   "source": [
    "test_data_id.shape"
   ]
  },
  {
   "cell_type": "code",
   "execution_count": 85,
   "metadata": {
    "collapsed": false
   },
   "outputs": [],
   "source": [
    "final_result = DataFrame(test_data_id).join(result_y)"
   ]
  },
  {
   "cell_type": "code",
   "execution_count": 86,
   "metadata": {
    "collapsed": false,
    "scrolled": false
   },
   "outputs": [
    {
     "data": {
      "text/html": [
       "<div>\n",
       "<style>\n",
       "    .dataframe thead tr:only-child th {\n",
       "        text-align: right;\n",
       "    }\n",
       "\n",
       "    .dataframe thead th {\n",
       "        text-align: left;\n",
       "    }\n",
       "\n",
       "    .dataframe tbody tr th {\n",
       "        vertical-align: top;\n",
       "    }\n",
       "</style>\n",
       "<table border=\"1\" class=\"dataframe\">\n",
       "  <thead>\n",
       "    <tr style=\"text-align: right;\">\n",
       "      <th></th>\n",
       "      <th>instance_id</th>\n",
       "      <th>predicted_score</th>\n",
       "    </tr>\n",
       "  </thead>\n",
       "  <tbody>\n",
       "    <tr>\n",
       "      <th>0</th>\n",
       "      <td>2475218615076601065</td>\n",
       "      <td>0.024566</td>\n",
       "    </tr>\n",
       "    <tr>\n",
       "      <th>0</th>\n",
       "      <td>55144604125888</td>\n",
       "      <td>0.024566</td>\n",
       "    </tr>\n",
       "    <tr>\n",
       "      <th>1</th>\n",
       "      <td>398316874173557226</td>\n",
       "      <td>0.030590</td>\n",
       "    </tr>\n",
       "    <tr>\n",
       "      <th>1</th>\n",
       "      <td>221669167755726</td>\n",
       "      <td>0.030590</td>\n",
       "    </tr>\n",
       "    <tr>\n",
       "      <th>2</th>\n",
       "      <td>6586402638209028583</td>\n",
       "      <td>0.029958</td>\n",
       "    </tr>\n",
       "  </tbody>\n",
       "</table>\n",
       "</div>"
      ],
      "text/plain": [
       "           instance_id  predicted_score\n",
       "0  2475218615076601065         0.024566\n",
       "0       55144604125888         0.024566\n",
       "1   398316874173557226         0.030590\n",
       "1      221669167755726         0.030590\n",
       "2  6586402638209028583         0.029958"
      ]
     },
     "execution_count": 86,
     "metadata": {},
     "output_type": "execute_result"
    }
   ],
   "source": [
    "final_result.head(5)"
   ]
  },
  {
   "cell_type": "code",
   "execution_count": 91,
   "metadata": {
    "collapsed": true
   },
   "outputs": [],
   "source": [
    "np.savetxt('tianchi_ali.txt', final_result, fmt='%d %f', delimiter=\"\\n\", header=\"instance_id predicted_score\")"
   ]
  },
  {
   "cell_type": "code",
   "execution_count": 95,
   "metadata": {
    "collapsed": true
   },
   "outputs": [],
   "source": [
    "test_b_final = test_data_b[data_to_use]\n",
    "d_test_b = xgb.DMatrix(test_b_final )\n",
    "y_final_prev_b = bst.predict(d_test_b)\n",
    "\n",
    "result_y_b = DataFrame(y_final_prev_b, columns=['predicted_score'])\n",
    "test_data_id_b = test_data_b['instance_id']\n",
    "final_result_b = DataFrame(test_data_id_b).join(result_y_b)"
   ]
  },
  {
   "cell_type": "code",
   "execution_count": 96,
   "metadata": {
    "collapsed": true
   },
   "outputs": [],
   "source": [
    "np.savetxt('round1_ijcai_18_test_b_20180418.txt', final_result_a, fmt='%d %f', delimiter=\"\\n\", header=\"instance_id predicted_score\")"
   ]
  },
  {
   "cell_type": "code",
   "execution_count": null,
   "metadata": {
    "collapsed": true
   },
   "outputs": [],
   "source": []
  }
 ],
 "metadata": {
  "kernelspec": {
   "display_name": "quadcop",
   "language": "python",
   "name": "quadcop"
  },
  "language_info": {
   "codemirror_mode": {
    "name": "ipython",
    "version": 3
   },
   "file_extension": ".py",
   "mimetype": "text/x-python",
   "name": "python",
   "nbconvert_exporter": "python",
   "pygments_lexer": "ipython3",
   "version": "3.6.2"
  }
 },
 "nbformat": 4,
 "nbformat_minor": 2
}
